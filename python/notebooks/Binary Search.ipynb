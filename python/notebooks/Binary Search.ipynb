{
 "cells": [
  {
   "cell_type": "markdown",
   "id": "cc58c7ff",
   "metadata": {},
   "source": [
    "## Binary Search"
   ]
  },
  {
   "cell_type": "code",
   "execution_count": 66,
   "id": "ec5e0a9f",
   "metadata": {},
   "outputs": [],
   "source": [
    "def linear_search(array, item):\n",
    "    for i in range(0,len(array)):\n",
    "        if array[i] == item:\n",
    "            return i\n",
    "    return -1\n",
    "    "
   ]
  },
  {
   "cell_type": "code",
   "execution_count": 92,
   "id": "18b62edd",
   "metadata": {},
   "outputs": [],
   "source": [
    "def binary_search(array, item):\n",
    "    left_index = 0\n",
    "    right_index = len(array) - 1\n",
    "    \n",
    "    while left_index <= right_index:\n",
    "        \n",
    "        mid_index = (left_index +right_index) // 2\n",
    "        \n",
    "        if array[mid_index] == item:\n",
    "            return mid_index\n",
    "        \n",
    "        if item > array[mid_index]:\n",
    "            left_index = mid_index+1\n",
    "        else:\n",
    "            right_index = mid_index-1\n",
    "            \n",
    "    return -1\n",
    "        "
   ]
  },
  {
   "cell_type": "code",
   "execution_count": 109,
   "id": "1214939d",
   "metadata": {},
   "outputs": [],
   "source": [
    "def recursive_binary_search( array, item, left_index = 0, right_index = None):\n",
    "    right_index = len(array)-1 if right_index == None else right_index\n",
    "    \n",
    "    mid_index = (left_index + right_index) // 2\n",
    "    \n",
    "    if array[mid_index] == item:\n",
    "        return mid_index\n",
    "    if left_index > right_index:\n",
    "        return -1\n",
    "    if item > array[mid_index]:\n",
    "        return recursive_binary_search(array,item, mid_index+1, right_index)\n",
    "    else:\n",
    "        return recursive_binary_search(array,item, left_index, mid_index-1)\n",
    "    \n",
    "    "
   ]
  },
  {
   "cell_type": "code",
   "execution_count": 115,
   "id": "1fb9dad5",
   "metadata": {},
   "outputs": [
    {
     "name": "stdout",
     "output_type": "stream",
     "text": [
      "10\n",
      "10\n",
      "10\n"
     ]
    }
   ],
   "source": [
    "m_array = [12,14,22,28,30,33,45,57,88,96,98]\n",
    "# m_array = [1,4,6,9,10,5,7]\n",
    "to_search = 98\n",
    "\n",
    "print(linear_search(m_array, to_search))\n",
    "print(binary_search(m_array, to_search))\n",
    "print(recursive_binary_search(m_array, to_search))"
   ]
  },
  {
   "cell_type": "markdown",
   "id": "e705ad1c",
   "metadata": {},
   "source": [
    "### Practice Questions\n",
    "\n",
    "1. When I try to find number 5 in below list using binary search, it doesn't work and returns me -1 index. Why is that?\n",
    "\n",
    "```\n",
    "numbers = [1,4,6,9,10,5,7]\n",
    "```\n",
    "\n",
    "2. Find index of all the occurances of a number from sorted list\n",
    "\n",
    "```\n",
    "numbers = [1,4,6,9,11,15,15,15,17,21,34,34,56]\n",
    "number_to_find = 15  \n",
    "```\n",
    "This should return 5,6,7 as indices containing number 15 in the array"
   ]
  },
  {
   "cell_type": "code",
   "execution_count": 121,
   "id": "2402b580",
   "metadata": {},
   "outputs": [],
   "source": [
    "def all_indices(array, item):\n",
    "    indices = []\n",
    "    \n",
    "    for i in range(0, len(array)):\n",
    "        if array[i] == item:\n",
    "            indices = indices + [i]\n",
    "    return indices\n"
   ]
  },
  {
   "cell_type": "code",
   "execution_count": 150,
   "id": "6e4f221b",
   "metadata": {},
   "outputs": [],
   "source": [
    "def find_all_indices(array, item):\n",
    "    indices = []\n",
    "    index = binary_search(array, item)\n",
    "    if index == -1:\n",
    "        return []\n",
    "    indices.append(index)\n",
    "    i= index+1\n",
    "    \n",
    "    while  i < len(array) and array[i] == item:\n",
    "        indices.append(i)\n",
    "        i+=1\n",
    "        \n",
    "    i= index-1\n",
    "    \n",
    "    while array[i] == item and i >0:\n",
    "        indices.append(i)\n",
    "        i-=1\n",
    "    return sorted(indices)\n",
    "\n"
   ]
  },
  {
   "cell_type": "code",
   "execution_count": 155,
   "id": "192df611",
   "metadata": {},
   "outputs": [
    {
     "name": "stdout",
     "output_type": "stream",
     "text": [
      "[5, 6, 7]\n",
      "[5, 6, 7]\n"
     ]
    }
   ],
   "source": [
    "numbers = [1,4,6,9,11,15,15,15,17,21,34,34,56]\n",
    "number_to_find = 15  \n",
    "print(all_indices(numbers, number_to_find))\n",
    "print(find_all_indices(numbers, number_to_find))"
   ]
  },
  {
   "cell_type": "code",
   "execution_count": null,
   "id": "1e592a32",
   "metadata": {},
   "outputs": [],
   "source": []
  }
 ],
 "metadata": {
  "kernelspec": {
   "display_name": "Python 3 (ipykernel)",
   "language": "python",
   "name": "python3"
  },
  "language_info": {
   "codemirror_mode": {
    "name": "ipython",
    "version": 3
   },
   "file_extension": ".py",
   "mimetype": "text/x-python",
   "name": "python",
   "nbconvert_exporter": "python",
   "pygments_lexer": "ipython3",
   "version": "3.9.7"
  }
 },
 "nbformat": 4,
 "nbformat_minor": 5
}
