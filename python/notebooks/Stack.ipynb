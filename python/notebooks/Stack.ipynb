{
 "cells": [
  {
   "cell_type": "markdown",
   "id": "89e4a6b2",
   "metadata": {},
   "source": [
    "## Implementation of a stack in python using deque\n"
   ]
  },
  {
   "cell_type": "code",
   "execution_count": 52,
   "id": "a727b501",
   "metadata": {},
   "outputs": [],
   "source": [
    "from collections import deque\n",
    "\n",
    "class Stack:\n",
    "    def __init__(self):\n",
    "        self.container = deque()\n",
    "    def push(self, item):\n",
    "        self.container.append(item)\n",
    "    def pop(self): \n",
    "        return self.container.pop() if not self.is_empty() else None\n",
    "    def peek(self):\n",
    "        return self.container[-1] if not self.is_empty() else None\n",
    "    def is_empty(self):\n",
    "        return len(self.container) == 0\n",
    "    def size(self):\n",
    "        return len(self.container)"
   ]
  },
  {
   "cell_type": "code",
   "execution_count": 53,
   "id": "d39adf63",
   "metadata": {},
   "outputs": [
    {
     "name": "stdout",
     "output_type": "stream",
     "text": [
      "3\n"
     ]
    }
   ],
   "source": [
    "st = Stack()\n",
    "\n",
    "st.push('michael')\n",
    "st.push('karitu')\n",
    "st.push('kamau')\n",
    "\n",
    "print(st.size())"
   ]
  },
  {
   "cell_type": "code",
   "execution_count": 54,
   "id": "e9212902",
   "metadata": {},
   "outputs": [
    {
     "name": "stdout",
     "output_type": "stream",
     "text": [
      "kamau\n",
      "2\n",
      "False\n"
     ]
    }
   ],
   "source": [
    "print(st.pop())\n",
    "print(st.size())\n",
    "print(st.is_empty())"
   ]
  },
  {
   "cell_type": "markdown",
   "id": "2001c112",
   "metadata": {},
   "source": [
    "## Exercises\n",
    "\n",
    "1. Write a function in python that checks if paranthesis in the string are balanced or not. Possible parantheses are \"{}',\"()\" or \"[]\". Use Stack class from the tutorial.\n",
    "\n",
    "is_balanced(\"({a+b})\")     --> True <br>\n",
    "is_balanced(\"))((a+b}{\")   --> False <br>\n",
    "is_balanced(\"((a+b))\")     --> True <br>\n",
    "is_balanced(\"))\")          --> False <br>\n",
    "is_balanced(\"[a+b]*(x+2y)*{gg+kk}\") --> True"
   ]
  },
  {
   "cell_type": "code",
   "execution_count": 56,
   "id": "b7d581a6",
   "metadata": {},
   "outputs": [
    {
     "name": "stdout",
     "output_type": "stream",
     "text": [
      "True\n",
      "False\n",
      "True\n",
      "False\n",
      "True\n"
     ]
    }
   ],
   "source": [
    "def is_balanced(string):\n",
    "    myStack = Stack()\n",
    "    all_chars = list(string)\n",
    "    to_push = ['{', '(', '[']\n",
    "    to_pop = ['}', ')', ']']\n",
    "    \n",
    "    for char in all_chars:\n",
    "        if char in to_push:\n",
    "            myStack.push(char)\n",
    "        elif char in to_pop:\n",
    "            if to_push[to_pop.index(char)] == myStack.peek():  \n",
    "                myStack.pop()\n",
    "            else:\n",
    "                return False\n",
    "    return myStack.is_empty()\n",
    "\n",
    "print(is_balanced(\"({a+b})\"))\n",
    "print(is_balanced(\"))((a+b}{\"))\n",
    "print(is_balanced(\"((a+b))\"))\n",
    "print(is_balanced(\"))\"))\n",
    "print(is_balanced(\"[a+b](x+2y){gg+kk}\"))\n",
    "    \n",
    "    "
   ]
  },
  {
   "cell_type": "markdown",
   "id": "1c5e6db3",
   "metadata": {},
   "source": [
    "2. Write a function in python that can reverse a string using stack data structure. Use Stack class from the tutorial.\n",
    "    <br><br> reverse_string(\"We will conquere COVID-19\") should return \"91-DIVOC ereuqnoc lliw eW\""
   ]
  },
  {
   "cell_type": "code",
   "execution_count": 60,
   "id": "fa051539",
   "metadata": {},
   "outputs": [
    {
     "name": "stdout",
     "output_type": "stream",
     "text": [
      "91-DIVOC ereuqnoc lliw eW\n"
     ]
    }
   ],
   "source": [
    "def reverse_string(string):\n",
    "    myStack = Stack()\n",
    "    value = ''\n",
    "    \n",
    "    for char in list(string):\n",
    "        myStack.push(char)\n",
    "    while myStack.peek() is not None:\n",
    "        value+= myStack.pop()\n",
    "        \n",
    "    return value\n",
    "    \n",
    "print(reverse_string(\"We will conquere COVID-19\"))"
   ]
  },
  {
   "cell_type": "code",
   "execution_count": null,
   "id": "d3460ef3",
   "metadata": {},
   "outputs": [],
   "source": []
  }
 ],
 "metadata": {
  "kernelspec": {
   "display_name": "Python 3 (ipykernel)",
   "language": "python",
   "name": "python3"
  },
  "language_info": {
   "codemirror_mode": {
    "name": "ipython",
    "version": 3
   },
   "file_extension": ".py",
   "mimetype": "text/x-python",
   "name": "python",
   "nbconvert_exporter": "python",
   "pygments_lexer": "ipython3",
   "version": "3.9.7"
  }
 },
 "nbformat": 4,
 "nbformat_minor": 5
}
