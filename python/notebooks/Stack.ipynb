{
 "cells": [
  {
   "cell_type": "markdown",
   "id": "0e3e15c8",
   "metadata": {},
   "source": [
    "## Implementation of a stack in python using deque\n"
   ]
  },
  {
   "cell_type": "code",
   "execution_count": 34,
   "id": "859a0e88",
   "metadata": {},
   "outputs": [],
   "source": [
    "from collections import deque\n",
    "\n",
    "class Stack:\n",
    "    def __init__(self):\n",
    "        self.container = deque()\n",
    "    def push(self, item):\n",
    "        self.container.append(item)\n",
    "    def pop(self): \n",
    "        return self.container.pop() if not self.is_empty() else None\n",
    "    def peek(self, item):\n",
    "        return self.container[-1]\n",
    "    def is_empty(self):\n",
    "        return len(self.container) == 0\n",
    "    def size(self):\n",
    "        return len(self.container)"
   ]
  },
  {
   "cell_type": "code",
   "execution_count": 35,
   "id": "e529a303",
   "metadata": {},
   "outputs": [
    {
     "name": "stdout",
     "output_type": "stream",
     "text": [
      "3\n"
     ]
    }
   ],
   "source": [
    "st = Stack()\n",
    "\n",
    "st.push('michael')\n",
    "st.push('karitu')\n",
    "st.push('kamau')\n",
    "\n",
    "print(st.size())"
   ]
  },
  {
   "cell_type": "code",
   "execution_count": 41,
   "id": "34ba7a76",
   "metadata": {},
   "outputs": [
    {
     "name": "stdout",
     "output_type": "stream",
     "text": [
      "None\n",
      "0\n",
      "True\n"
     ]
    }
   ],
   "source": [
    "print(st.pop())\n",
    "print(st.size())\n",
    "print(st.is_empty())"
   ]
  },
  {
   "cell_type": "code",
   "execution_count": null,
   "id": "94dd1a8c",
   "metadata": {},
   "outputs": [],
   "source": []
  }
 ],
 "metadata": {
  "kernelspec": {
   "display_name": "Python 3 (ipykernel)",
   "language": "python",
   "name": "python3"
  },
  "language_info": {
   "codemirror_mode": {
    "name": "ipython",
    "version": 3
   },
   "file_extension": ".py",
   "mimetype": "text/x-python",
   "name": "python",
   "nbconvert_exporter": "python",
   "pygments_lexer": "ipython3",
   "version": "3.9.7"
  }
 },
 "nbformat": 4,
 "nbformat_minor": 5
}
