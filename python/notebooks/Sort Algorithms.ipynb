{
 "cells": [
  {
   "cell_type": "markdown",
   "id": "c317fecf",
   "metadata": {},
   "source": [
    "## Bubble sort"
   ]
  },
  {
   "cell_type": "code",
   "execution_count": 21,
   "id": "e7744a6d",
   "metadata": {},
   "outputs": [],
   "source": [
    "def bubble_sort(array):\n",
    "    for i in range(len(array)-1):\n",
    "        swapped = False\n",
    "        for j in range(len(array)-1-i):\n",
    "            if array[j] > array[j+1]:\n",
    "                temp = array[j]\n",
    "                array[j] = array[j+1]\n",
    "                array[j+1] = temp\n",
    "                swapped = True\n",
    "        if not swapped:\n",
    "            break\n",
    "    return array"
   ]
  },
  {
   "cell_type": "code",
   "execution_count": 22,
   "id": "9862825f",
   "metadata": {},
   "outputs": [
    {
     "name": "stdout",
     "output_type": "stream",
     "text": [
      "[2, 3, 3, 4, 6, 7, 9]\n"
     ]
    }
   ],
   "source": [
    "numbers = [3,7,6,3,2,4,9]\n",
    "print(bubble_sort(numbers))"
   ]
  },
  {
   "cell_type": "markdown",
   "id": "4e538381",
   "metadata": {},
   "source": [
    "#### Bubble Sort Exercise\n",
    "Modify bubble_sort function such that it can sort following list of transactions happening in an electronic store,\n",
    "```\n",
    "elements = [\n",
    "        { 'name': 'mona',   'transaction_amount': 1000, 'device': 'iphone-10'},\n",
    "        { 'name': 'dhaval', 'transaction_amount': 400,  'device': 'google pixel'},\n",
    "        { 'name': 'kathy',  'transaction_amount': 200,  'device': 'vivo'},\n",
    "        { 'name': 'aamir',  'transaction_amount': 800,  'device': 'iphone-8'},\n",
    "    ]\n",
    "```\n",
    "bubble_sort function should take key from a transaction record and sort the list as per that key. For example,\n",
    "```\n",
    "bubble_sort(elements, key='transaction_amount')\n",
    "```\n",
    "This will sort elements by transaction_amount and your sorted list will look like,\n",
    "```\n",
    "elements = [\n",
    "        { 'name': 'kathy',  'transaction_amount': 200,  'device': 'vivo'},\n",
    "        { 'name': 'dhaval', 'transaction_amount': 400,  'device': 'google pixel'},\n",
    "        { 'name': 'aamir',  'transaction_amount': 800,  'device': 'iphone-8'},\n",
    "        { 'name': 'mona',   'transaction_amount': 1000, 'device': 'iphone-10'},\n",
    "    ]\n",
    "```\n",
    "But if you call it like this,\n",
    "```\n",
    "bubble_sort(elements, key='name')\n",
    "```\n",
    "output will be,\n",
    "```\n",
    "elements = [\n",
    "        { 'name': 'aamir',  'transaction_amount': 800,  'device': 'iphone-8'},\n",
    "        { 'name': 'dhaval', 'transaction_amount': 400,  'device': 'google pixel'},\n",
    "        { 'name': 'kathy',  'transaction_amount': 200,  'device': 'vivo'},\n",
    "        { 'name': 'mona',   'transaction_amount': 1000, 'device': 'iphone-10'},\n",
    "    ]\n",
    "```"
   ]
  },
  {
   "cell_type": "code",
   "execution_count": 23,
   "id": "ad0c3226",
   "metadata": {},
   "outputs": [],
   "source": [
    "def object_bubble_sort(array, key):\n",
    "    for i in range(len(array)-1):\n",
    "        for j in range(len(array)-1-i):\n",
    "            if array[j][key] > array[j+1][key]:\n",
    "                temp = array[j]\n",
    "                array[j] = array[j+1]\n",
    "                array[j+1] = temp\n",
    "    return array"
   ]
  },
  {
   "cell_type": "code",
   "execution_count": 27,
   "id": "9ebfcdfe",
   "metadata": {},
   "outputs": [
    {
     "name": "stdout",
     "output_type": "stream",
     "text": [
      "[{'name': 'aamir', 'transaction_amount': 800, 'device': 'iphone-8'}, {'name': 'dhaval', 'transaction_amount': 400, 'device': 'google pixel'}, {'name': 'kathy', 'transaction_amount': 200, 'device': 'vivo'}, {'name': 'mona', 'transaction_amount': 1000, 'device': 'iphone-10'}]\n",
      "***************************************************\n",
      "[{'name': 'kathy', 'transaction_amount': 200, 'device': 'vivo'}, {'name': 'dhaval', 'transaction_amount': 400, 'device': 'google pixel'}, {'name': 'aamir', 'transaction_amount': 800, 'device': 'iphone-8'}, {'name': 'mona', 'transaction_amount': 1000, 'device': 'iphone-10'}]\n",
      "***************************************************\n",
      "[{'name': 'dhaval', 'transaction_amount': 400, 'device': 'google pixel'}, {'name': 'mona', 'transaction_amount': 1000, 'device': 'iphone-10'}, {'name': 'aamir', 'transaction_amount': 800, 'device': 'iphone-8'}, {'name': 'kathy', 'transaction_amount': 200, 'device': 'vivo'}]\n"
     ]
    }
   ],
   "source": [
    "elements = [\n",
    "        { 'name': 'mona',   'transaction_amount': 1000, 'device': 'iphone-10'},\n",
    "        { 'name': 'dhaval', 'transaction_amount': 400,  'device': 'google pixel'},\n",
    "        { 'name': 'kathy',  'transaction_amount': 200,  'device': 'vivo'},\n",
    "        { 'name': 'aamir',  'transaction_amount': 800,  'device': 'iphone-8'},\n",
    "    ]\n",
    "print(object_bubble_sort(elements, key='name'))\n",
    "print('***************************************************')\n",
    "print(object_bubble_sort(elements, key='transaction_amount'))\n",
    "print('***************************************************')\n",
    "print(object_bubble_sort(elements, key='device'))"
   ]
  },
  {
   "cell_type": "markdown",
   "id": "2868ce5a",
   "metadata": {},
   "source": [
    "## Quick sort\n",
    "\n",
    "#### Hoare Partitioning\n",
    "\n",
    "1. Initialize 2 pointers. Start and end\n",
    "2. Take the element at the start position as the pivot\n",
    "3. Then:\n",
    "   a. keep increasing the start pointer while array[start] < pivot\n",
    "   b. Keep decreasing the end pointer while array[end] > pivot\n",
    "   c. Swap the two and repeat the process while start < end"
   ]
  },
  {
   "cell_type": "code",
   "execution_count": 14,
   "id": "b3617ea4",
   "metadata": {},
   "outputs": [
    {
     "name": "stdout",
     "output_type": "stream",
     "text": [
      "sorted array: [1, 2, 4, 7, 8, 11, 12, 17, 19, 23, 43]\n",
      "sorted array: [2, 7, 9, 11, 15, 28, 29]\n",
      "sorted array: [3, 7, 9, 11]\n",
      "sorted array: [10, 21, 22, 25]\n",
      "sorted array: [15, 28, 29]\n",
      "sorted array: []\n",
      "sorted array: [6]\n",
      "sorted array: [1, 6]\n"
     ]
    }
   ],
   "source": [
    "def swap(a, b, array):\n",
    "    if a!=b:\n",
    "        temp = array[a]\n",
    "        array[a] = array[b]\n",
    "        array[b] = temp\n",
    "\n",
    "def hoare_partition(elements, start, end):\n",
    "    pivot_index = start\n",
    "    pivot = elements[start]\n",
    "    \n",
    "    start= start+1\n",
    "    \n",
    "    while start <= end:\n",
    "        while start<len(elements) and elements[start] < pivot:\n",
    "            start+=1\n",
    "        while elements[end] > pivot:\n",
    "            end-=1\n",
    "        if start < end:\n",
    "            swap(start, end, elements)\n",
    "    swap(pivot_index, end, elements)\n",
    "    \n",
    "    return end\n",
    "\n",
    "def quick_sort(elements, start, end):\n",
    "    if start < end:\n",
    "        pi = hoare_partition(elements, start, end)\n",
    "        quick_sort(elements,start, pi-1)\n",
    "        quick_sort(elements, pi+1, end)\n",
    "\n",
    "\n",
    "tests = [\n",
    "        [43,17,8,4,7,12,2,1,11,19,23],\n",
    "        [11,9,29,7,2,15,28],\n",
    "        [3, 7, 9, 11],\n",
    "        [25, 22, 21, 10],\n",
    "        [29, 15, 28],\n",
    "        [],\n",
    "        [6],\n",
    "        [6,1]\n",
    "    ]\n",
    "\n",
    "for elements in tests:\n",
    "        quick_sort(elements, 0, len(elements)-1)\n",
    "        print(f'sorted array: {elements}')   \n",
    "\n",
    "\n",
    " "
   ]
  },
  {
   "cell_type": "markdown",
   "id": "a14bf3b8",
   "metadata": {},
   "source": [
    "#### Exercise: Quick Sort\n",
    "Implement quick sort using lumoto partition scheme. This partition scheme is explained in the video tutorial, you need to write python code to implement it. Check the pseudo code here: https://en.wikipedia.org/wiki/Quicksort Check the section Lomuto partition scheme\n",
    "\n",
    "##### Sequence\n",
    "\n",
    "1. pivot is the right most element\n",
    "2. initialize 2 counters p_index and i on the left. Increment the counter while array[p_index] < pivot\n",
    "3. Once a value greater than the pivot is encountered on the p_index, make i=p_index and increment i while array[i] > pivot\n",
    "\n"
   ]
  },
  {
   "cell_type": "code",
   "execution_count": 32,
   "id": "681aa8c9",
   "metadata": {},
   "outputs": [
    {
     "name": "stdout",
     "output_type": "stream",
     "text": [
      "sorted array: [1, 2, 4, 7, 8, 11, 12, 17, 19, 23, 43, 43]\n",
      "sorted array: [2, 7, 9, 11, 15, 28, 29]\n",
      "sorted array: [3, 7, 9, 11]\n",
      "sorted array: [10, 21, 22, 25]\n",
      "sorted array: [15, 28, 29]\n",
      "sorted array: []\n",
      "sorted array: [6]\n",
      "sorted array: [1, 6]\n"
     ]
    }
   ],
   "source": [
    "def lomuto_partition(elements, start, end):\n",
    "    pivot_index = end\n",
    "    pivot = elements[end]\n",
    "    \n",
    "    p_index = start\n",
    "    i = start\n",
    "    \n",
    "    while i < end:\n",
    "        while p_index < end and elements[p_index] < pivot:\n",
    "            p_index += 1\n",
    "        i = p_index  \n",
    "        while elements[i] >= pivot and i < end:\n",
    "            i+=1\n",
    "        swap(i, p_index, elements)\n",
    "    return p_index\n",
    "        \n",
    "        \n",
    "def quick_sort_2(elements, start, end):\n",
    "    if start < end:\n",
    "        pi = lomuto_partition(elements, start, end)\n",
    "        quick_sort_2(elements, start, pi-1)\n",
    "        quick_sort_2(elements, pi+1, end)\n",
    "    \n",
    "      \n",
    "\n",
    "tests = [\n",
    "        [43,17,8,4,7,12,2,1,11,43,19,23],\n",
    "        [11,9,29,7,2,15,28],\n",
    "        [3, 7, 9, 11],\n",
    "        [25, 22, 21, 10],\n",
    "        [29, 15, 28],\n",
    "        [],\n",
    "        [6],\n",
    "        [6,1]\n",
    "    ]\n",
    "\n",
    "for elements in tests:\n",
    "        quick_sort_2(elements, 0, len(elements)-1)\n",
    "        print(f'sorted array: {elements}')   \n"
   ]
  },
  {
   "cell_type": "code",
   "execution_count": null,
   "id": "a5dd7588",
   "metadata": {},
   "outputs": [],
   "source": []
  }
 ],
 "metadata": {
  "kernelspec": {
   "display_name": "Python 3 (ipykernel)",
   "language": "python",
   "name": "python3"
  },
  "language_info": {
   "codemirror_mode": {
    "name": "ipython",
    "version": 3
   },
   "file_extension": ".py",
   "mimetype": "text/x-python",
   "name": "python",
   "nbconvert_exporter": "python",
   "pygments_lexer": "ipython3",
   "version": "3.9.7"
  }
 },
 "nbformat": 4,
 "nbformat_minor": 5
}
