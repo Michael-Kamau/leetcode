{
 "cells": [
  {
   "cell_type": "code",
   "execution_count": 40,
   "id": "146e0a1c",
   "metadata": {},
   "outputs": [],
   "source": [
    "def getChange(M,P):\n",
    "    change =M* 100 - P * 100 \n",
    "    denomination= [1, 3, 10, 25, 50, 100]\n",
    "    \n",
    "    res = [0,0,0,0,0,0]\n",
    "\n",
    "\n",
    "    while change > 0:\n",
    "        for i in range(6):\n",
    "            if denomination[i] > change:\n",
    "                res[i-1]=res[i-1]+1\n",
    "                change=change - denomination[i-1]\n",
    "                break\n",
    "            elif i == 5 or denomination[i] == change:\n",
    "                res[i]=res[i]+1\n",
    "                change=change - denomination[i]\n",
    "                break\n",
    "            else:\n",
    "                pass\n",
    "                \n",
    "    return res\n",
    "\n",
    "\n",
    "def getChange2(M, P):\n",
    "    \n",
    "    change =M * 100 - P * 100 \n",
    "    denomination= [1, 3, 10, 25, 50, 100]\n",
    "    \n",
    "    res = [0,0,0,0,0,0]\n",
    "\n",
    "    while change > 0:\n",
    "        for i in reversed(range(6)):\n",
    "            if denomination[i] <= change:\n",
    "                res[i]=res[i]+1\n",
    "                change=change - denomination[i]\n",
    "                break\n",
    "            else:\n",
    "                pass\n",
    "    return res\n",
    "                \n",
    "    \n",
    "            \n",
    "    \n",
    "        "
   ]
  },
  {
   "cell_type": "code",
   "execution_count": 41,
   "id": "d0882d34",
   "metadata": {},
   "outputs": [
    {
     "name": "stdout",
     "output_type": "stream",
     "text": [
      "[0, 0, 2, 0, 1, 4]\n",
      "[0, 0, 2, 0, 1, 4]\n",
      "****************\n",
      "[0, 0, 2, 0, 1, 5]\n",
      "[0, 0, 2, 0, 1, 5]\n",
      "****************\n",
      "[0, 0, 1, 0, 1, 0]\n",
      "[0, 0, 1, 0, 1, 0]\n"
     ]
    }
   ],
   "source": [
    "print(getChange(5,0.3))\n",
    "print(getChange2(5,0.3))\n",
    "print('****************')\n",
    "print(getChange(7,1.3))\n",
    "print(getChange2(7,1.3))\n",
    "print('****************')\n",
    "print(getChange(2,1.4))\n",
    "print(getChange2(2,1.4))"
   ]
  },
  {
   "cell_type": "code",
   "execution_count": null,
   "id": "74df5c7e",
   "metadata": {},
   "outputs": [],
   "source": []
  },
  {
   "cell_type": "code",
   "execution_count": null,
   "id": "8938ff3b",
   "metadata": {},
   "outputs": [],
   "source": []
  }
 ],
 "metadata": {
  "kernelspec": {
   "display_name": "Python 3 (ipykernel)",
   "language": "python",
   "name": "python3"
  },
  "language_info": {
   "codemirror_mode": {
    "name": "ipython",
    "version": 3
   },
   "file_extension": ".py",
   "mimetype": "text/x-python",
   "name": "python",
   "nbconvert_exporter": "python",
   "pygments_lexer": "ipython3",
   "version": "3.9.7"
  }
 },
 "nbformat": 4,
 "nbformat_minor": 5
}
