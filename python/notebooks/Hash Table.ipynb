{
 "cells": [
  {
   "cell_type": "markdown",
   "id": "bd73a2df",
   "metadata": {},
   "source": [
    "## Hash Tables\n",
    "A hash table is a data structure that typically stores data in key value pairs. Similar to how a dictionary functions. This is an implementation of the same in python."
   ]
  },
  {
   "cell_type": "code",
   "execution_count": 22,
   "id": "d044540a",
   "metadata": {},
   "outputs": [],
   "source": [
    "class HashTable:\n",
    "    \n",
    "    def __init__(self, maximum):\n",
    "        self.max = maximum\n",
    "        self.arr =[None for i in range(0,self.max)]\n",
    "    \n",
    "    \n",
    "    def get_hash(self, key):\n",
    "        value = 0\n",
    "        \n",
    "        for char in list(key):\n",
    "            value+=ord(char)\n",
    "            \n",
    "        return value % self.max\n",
    "    \n",
    "    def add (self, key, value):\n",
    "        index = self.get_hash(key)\n",
    "        self.arr[index] = value\n",
    "    \n",
    "    def get(self,key):\n",
    "        index = self.get_hash(key)\n",
    "        return self.arr[index]\n",
    "        "
   ]
  },
  {
   "cell_type": "code",
   "execution_count": 23,
   "id": "3f4fc734",
   "metadata": {},
   "outputs": [
    {
     "name": "stdout",
     "output_type": "stream",
     "text": [
      "star\n",
      "3\n"
     ]
    }
   ],
   "source": [
    "ht = HashTable(1000)\n",
    "\n",
    "ht.add('kime',3)\n",
    "ht.add('plot','star')\n",
    "\n",
    "print(ht.get('plot'))\n",
    "print(ht.get('kime'))\n"
   ]
  },
  {
   "cell_type": "markdown",
   "id": "e496e586",
   "metadata": {},
   "source": [
    "# HashTable with Collision handling (Linear Probing)\n"
   ]
  },
  {
   "cell_type": "code",
   "execution_count": 24,
   "id": "20a758d3",
   "metadata": {},
   "outputs": [],
   "source": [
    "class HashTable2:\n",
    "    \n",
    "    def __init__(self, maximum):\n",
    "        self.max = maximum\n",
    "        self.arr =[[] for i in range(0,self.max)]\n",
    "    \n",
    "    \n",
    "    def get_hash(self, key):\n",
    "        value = 0\n",
    "        \n",
    "        for char in list(key):\n",
    "            value+=ord(char)\n",
    "            \n",
    "        return value % self.max\n",
    "    \n",
    "    def add (self, key, value):\n",
    "        index = self.get_hash(key)\n",
    "        found = False\n",
    "        for idx,element in enumerate(self.arr[index]):\n",
    "            if element[0] == key:\n",
    "                self.arr[index][idx] = (key, value)\n",
    "                found = True\n",
    "        if not found:\n",
    "            self.arr[index].append((key, value))\n",
    "            \n",
    "    \n",
    "    def get(self,key):\n",
    "        index = self.get_hash(key)   \n",
    "        for idx,element in enumerate(self.arr[index]):\n",
    "            if element[0] == key:\n",
    "                \n",
    "                return self.arr[index][idx][1]\n",
    "               \n",
    "        return None"
   ]
  },
  {
   "cell_type": "code",
   "execution_count": 25,
   "id": "051bb262",
   "metadata": {},
   "outputs": [
    {
     "name": "stdout",
     "output_type": "stream",
     "text": [
      "star\n",
      "integer\n",
      "another name\n",
      "future\n",
      "[[], [], [], [], [], [], [], [], [], [], [], [], [], [], [], [], [], [], [], [], [], [], [('kime', 'integer'), ('mike', 'another name'), ('miek', 'future')], [], [], [], [], [], [], [], [], [], [], [], [], [], [], [], [], [], [], [], [], [], [], [], [], [('plot', 'star')], [], [], [], [], [], [], [], [], [], [], [], [], [], [], [], [], [], [], [], [], [], [], [], [], [], [], [], [], [], [], [], [], [], [], [], [], [], [], [], [], [], [], [], [], [], [], [], [], [], [], [], []]\n"
     ]
    }
   ],
   "source": [
    "ht = HashTable2(100)\n",
    "\n",
    "ht.add('kime',3)\n",
    "ht.add('plot','star')\n",
    "ht.add('mike','another name')\n",
    "ht.add('miek','future')\n",
    "ht.add('kime','integer')\n",
    "\n",
    "print(ht.get('plot'))\n",
    "print(ht.get('kime'))\n",
    "print(ht.get('mike'))\n",
    "print(ht.get('miek'))\n",
    "print(ht.arr)"
   ]
  },
  {
   "cell_type": "code",
   "execution_count": null,
   "id": "02273af5",
   "metadata": {},
   "outputs": [],
   "source": []
  }
 ],
 "metadata": {
  "kernelspec": {
   "display_name": "Python 3 (ipykernel)",
   "language": "python",
   "name": "python3"
  },
  "language_info": {
   "codemirror_mode": {
    "name": "ipython",
    "version": 3
   },
   "file_extension": ".py",
   "mimetype": "text/x-python",
   "name": "python",
   "nbconvert_exporter": "python",
   "pygments_lexer": "ipython3",
   "version": "3.9.7"
  }
 },
 "nbformat": 4,
 "nbformat_minor": 5
}
