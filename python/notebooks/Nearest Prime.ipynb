{
 "cells": [
  {
   "cell_type": "markdown",
   "id": "950798ff",
   "metadata": {},
   "source": [
    "Find the closest prime number under a certain integer n that has the maximum possible amount of even digits.\n",
    "\n",
    "For n = 1000, the highest prime under 1000 is 887, having two even digits (8 twice)\n",
    "\n",
    "Naming f(), the function that gives that prime, the above case and others will be like the following below.\n",
    "\n",
    "f(1000) ---> 887 (even digits: 8, 8)\n",
    "\n",
    "f(1210) ---> 1201 (even digits: 2, 0)\n",
    "\n",
    "f(10000) ---> 8887\n",
    "\n",
    "f(500) ---> 487\n",
    "\n",
    "f(487) ---> 467"
   ]
  },
  {
   "cell_type": "code",
   "execution_count": 175,
   "id": "ac6c78f0",
   "metadata": {},
   "outputs": [
    {
     "name": "stdout",
     "output_type": "stream",
     "text": [
      "88883\n",
      "19.071863889694214\n"
     ]
    }
   ],
   "source": [
    "import time\n",
    "\n",
    "def f(n):\n",
    "    all_numbers = list(range(2,n))\n",
    "    longest = 0\n",
    "    prime_number = None\n",
    "    \n",
    "    for div in range(2, int(n**0.5)+1):\n",
    "        for number in all_numbers:\n",
    "            if number % div == 0 and number != div:\n",
    "                all_numbers.remove(number)\n",
    "    for number in all_numbers:\n",
    "        count = 0\n",
    "        digits = list(str(number))\n",
    "        count = len([digit for digit in digits if int(digit) % 2 == 0])\n",
    "        if count >= longest:\n",
    "            prime_number = number\n",
    "            longest = count\n",
    "            \n",
    "                      \n",
    "    return prime_number\n",
    "start = time.time() \n",
    "print(f(100000))\n",
    "print(time.time()-start )"
   ]
  },
  {
   "cell_type": "code",
   "execution_count": 91,
   "id": "be292162",
   "metadata": {},
   "outputs": [
    {
     "name": "stdout",
     "output_type": "stream",
     "text": [
      "887\n",
      "0.008354663848876953\n"
     ]
    }
   ],
   "source": [
    "import time\n",
    "\n",
    "def f1(n):\n",
    "    all_numbers = list(range(2,n))\n",
    "    divisors = list(range(2, int(n**0.5)+1))\n",
    "    to_skip = []\n",
    "    \n",
    "    longest = 0\n",
    "    prime_number = None\n",
    "    \n",
    "    for div in divisors:\n",
    "        if div in to_skip:\n",
    "            continue\n",
    "        for number in all_numbers:\n",
    "            if number % div == 0 and number in divisors:\n",
    "                    to_skip.append(number)\n",
    "            if number % div == 0 and number != div:\n",
    "                all_numbers.remove(number)\n",
    "    for number in all_numbers:\n",
    "        digits = list(str(number))\n",
    "        count = len([digit for digit in digits if int(digit) % 2 == 0])\n",
    "        if count >= longest:\n",
    "            prime_number = number\n",
    "            longest = count\n",
    "    \n",
    "#     print(to_skip)                 \n",
    "    return prime_number\n",
    "start = time.time() \n",
    "print(f1(1000))\n",
    "print(time.time()-start )"
   ]
  },
  {
   "cell_type": "code",
   "execution_count": 93,
   "id": "d67c74d2",
   "metadata": {},
   "outputs": [
    {
     "name": "stdout",
     "output_type": "stream",
     "text": [
      "887\n",
      "0.018533945083618164\n"
     ]
    }
   ],
   "source": [
    "def f2(n):\n",
    "    number = 2\n",
    "    longest_primes = 0\n",
    "    result = 0\n",
    "    while number < n :\n",
    "        for i in range(2, int(number/2)+1):\n",
    "            if number % i == 0:\n",
    "                break\n",
    "            if i == int(number/2): \n",
    "                evens = len([digit for digit in list(str(number)) if int(digit) % 2 == 0])\n",
    "                if(evens >= longest_primes):\n",
    "                    result = number\n",
    "                    longest_primes = evens\n",
    "            \n",
    "        number+=1\n",
    "                         \n",
    "    return result\n",
    "start = time.time() \n",
    "print(f2(1000))\n",
    "print(time.time()-start )"
   ]
  },
  {
   "cell_type": "code",
   "execution_count": 130,
   "id": "eac1fe87",
   "metadata": {},
   "outputs": [
    {
     "name": "stdout",
     "output_type": "stream",
     "text": [
      "None\n",
      "0.01705312728881836\n"
     ]
    }
   ],
   "source": [
    "def f3(n):\n",
    "    all_numbers = [i for i in range(2,n) if i % 2 != 0]\n",
    "#     number = 2\n",
    "    longest_primes = 0\n",
    "    result = None\n",
    "    to_skip = []\n",
    "    for number in reversed(all_numbers) :\n",
    "        if number in to_skip:\n",
    "            continue\n",
    "        for i in range(2, int(number/2)+1) :\n",
    "            if number % i == 0:\n",
    "                break\n",
    "            if i == int(number/2): \n",
    "                evens = len([digit for digit in list(str(number)) if int(digit) % 2 == 0])\n",
    "                if(evens >= longest_primes and result and number > result):\n",
    "                    result = number\n",
    "                    longest_primes = evens   \n",
    "                         \n",
    "    return result\n",
    "start = time.time() \n",
    "print(f3(1000))\n",
    "print(time.time()-start )"
   ]
  },
  {
   "cell_type": "markdown",
   "id": "0b633ad2",
   "metadata": {},
   "source": [
    "# Efficient Solution"
   ]
  },
  {
   "cell_type": "markdown",
   "id": "dcd2fe55",
   "metadata": {},
   "source": [
    "The Algorithm to see if x is a prime number.\n",
    "1. Find the square root of x.  Round this down to the nearest whole number. We call this truncating a number.\n",
    "2. Check all of the prime numbers less than or equal to the truncated square root of x.\n",
    "3. If none of these prime numbers divide evenly into the x, then x is prime."
   ]
  },
  {
   "cell_type": "code",
   "execution_count": 180,
   "id": "3323886f",
   "metadata": {},
   "outputs": [
    {
     "name": "stdout",
     "output_type": "stream",
     "text": [
      "88887\n",
      "12.360358715057373\n"
     ]
    }
   ],
   "source": [
    "import time\n",
    "\n",
    "def f4(n):\n",
    "    all_numbers = [i for i in range(2,n) if i % 2 != 0]\n",
    "    all_primes = [2]\n",
    "    longest_primes = 0\n",
    "    result = None \n",
    "    \n",
    "    #Loop through all the numbers within the specified range\n",
    "    for number in all_numbers:\n",
    "        sqrt = number**0.5\n",
    "        #Get a list of all the prime numbers that are less than or equal to the squareroot of the number we are currently on\n",
    "        primes = [num for num in all_primes if num <= sqrt]\n",
    "        \n",
    "        #Loop through the prime numbers less than the squareroot of the number\n",
    "        for i in primes:\n",
    "            #If there exists a prime that is a divisor of the number break from the loop\n",
    "            if number % i == 0 and number != i:               \n",
    "                break\n",
    "            #If we are on the last prime then the number is a prime\n",
    "            if i == primes[-1] :\n",
    "                #Append the number to the list of all prime numbers\n",
    "                all_primes.append(number)\n",
    "                evens = len([digit for digit in list(str(number)) if int(digit) % 2 == 0])\n",
    "                if(evens >= longest_primes):\n",
    "                    result = number\n",
    "                    longest_primes = evens \n",
    "     \n",
    "                         \n",
    "    return result\n",
    "start = time.time() \n",
    "print(f4(100000))\n",
    "print(time.time()-start )"
   ]
  },
  {
   "cell_type": "code",
   "execution_count": null,
   "id": "29d6e3e6",
   "metadata": {},
   "outputs": [],
   "source": []
  }
 ],
 "metadata": {
  "kernelspec": {
   "display_name": "Python 3 (ipykernel)",
   "language": "python",
   "name": "python3"
  },
  "language_info": {
   "codemirror_mode": {
    "name": "ipython",
    "version": 3
   },
   "file_extension": ".py",
   "mimetype": "text/x-python",
   "name": "python",
   "nbconvert_exporter": "python",
   "pygments_lexer": "ipython3",
   "version": "3.9.7"
  }
 },
 "nbformat": 4,
 "nbformat_minor": 5
}
