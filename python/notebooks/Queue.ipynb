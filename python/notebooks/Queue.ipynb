{
 "cells": [
  {
   "cell_type": "markdown",
   "id": "2920af31",
   "metadata": {},
   "source": [
    "## Queue\n",
    "Implementation of Queue in python\n"
   ]
  },
  {
   "cell_type": "code",
   "execution_count": 3,
   "id": "7d44910a",
   "metadata": {},
   "outputs": [],
   "source": [
    "from collections import deque\n",
    "\n",
    "class Queue:\n",
    "    \n",
    "    def __init__(self):\n",
    "        self.buffer = deque()\n",
    "    \n",
    "    def enqueue(self, item):\n",
    "        self.buffer.appendleft(item)\n",
    "    def dequeue(self):\n",
    "        return self.buffer.pop() if not self.is_empty() else None\n",
    "    def is_empty(self):\n",
    "        return len(self.buffer) == 0\n",
    "    def size(self):\n",
    "        return len(self.buffer)\n",
    "    def front(self):\n",
    "        return self.buffer[-1]"
   ]
  },
  {
   "cell_type": "code",
   "execution_count": 4,
   "id": "1cbb3aea",
   "metadata": {},
   "outputs": [
    {
     "name": "stdout",
     "output_type": "stream",
     "text": [
      "mike\n",
      "2\n"
     ]
    }
   ],
   "source": [
    "mQueue = Queue()\n",
    "\n",
    "mQueue.enqueue('mike')\n",
    "mQueue.enqueue('Helon')\n",
    "mQueue.enqueue('weibley')\n",
    "\n",
    "print(mQueue.dequeue())\n",
    "print(mQueue.size())"
   ]
  },
  {
   "cell_type": "markdown",
   "id": "fac11757",
   "metadata": {},
   "source": [
    "## Exercises"
   ]
  },
  {
   "cell_type": "markdown",
   "id": "6bf66bb0",
   "metadata": {},
   "source": [
    "1. Design a food ordering system where your python program will run two threads,\n",
    "\n",
    "**Place Order:** This thread will be placing an order and inserting that into a queue. This thread places new order every 0.5 second. (hint: use time.sleep(0.5) function)\n",
    "\n",
    "**Serve Order:** This thread will server the order. All you need to do is pop the order out of the queue and print it. This thread serves an order every 2 seconds. Also start this thread 1 second after place order thread is started.\n",
    "Use this video to get yourself familiar with multithreading in python\n",
    "\n",
    "Pass following list as an argument to place order thread,\n",
    "\n",
    "orders = ['pizza','samosa','pasta','biryani','burger']\n",
    "\n",
    "This problem is a producer,consumer problem where place_order thread is producing orders whereas server_order thread is consuming the food orders. Use Queue class implemented."
   ]
  },
  {
   "cell_type": "code",
   "execution_count": 5,
   "id": "86d3d04d",
   "metadata": {},
   "outputs": [
    {
     "name": "stdout",
     "output_type": "stream",
     "text": [
      "A new order for pizza  has been placed\n",
      "A new order for samosa  has been placed\n",
      "A new order for pasta  has been placed\n",
      "A new order for biryani  has been placed\n",
      "pizza  served\n",
      "A new order for burger  has been placed\n",
      "samosa  served\n",
      "pasta  served\n",
      "biryani  served\n",
      "burger  served\n",
      "ALL THE CUSTOMERS HAVE BEEN SERVED\n"
     ]
    }
   ],
   "source": [
    "import time\n",
    "import threading\n",
    "\n",
    "mQ = Queue()\n",
    "\n",
    "def placeOrder():\n",
    "    orders = ['pizza','samosa','pasta','biryani','burger']\n",
    "    \n",
    "    for order in orders:\n",
    "        mQ.enqueue(order)\n",
    "        print('A new order for', order, ' has been placed')\n",
    "        time.sleep(0.5)\n",
    "        \n",
    "def serveOrder():\n",
    "    while not mQ.is_empty():\n",
    "        time.sleep(2)\n",
    "        print(mQ.dequeue(),' served')\n",
    "        \n",
    "    print('ALL THE CUSTOMERS HAVE BEEN SERVED')\n",
    "        \n",
    "ot = threading.Thread(target=placeOrder) \n",
    "st = threading.Thread(target=serveOrder) \n",
    "\n",
    "\n",
    "ot.start()\n",
    "st.start()\n",
    "\n",
    "\n",
    "ot.join()\n",
    "st.join()\n",
    "        \n",
    "    "
   ]
  },
  {
   "cell_type": "markdown",
   "id": "80b84323",
   "metadata": {},
   "source": [
    "<br>\n",
    "<br>\n",
    "<br>\n",
    "<br>\n",
    "2. Write a program to print binary numbers from 1 to 10 using Queue. Use Queue class implemented in main tutorial. Binary sequence should look like,<br>\n",
    "    1<br>\n",
    "    10<br>\n",
    "    11<br>\n",
    "    100<br>\n",
    "    101<br>\n",
    "    110<br>\n",
    "    111<br>\n",
    "    1000<br>\n",
    "    1001<br>\n",
    "    1010<br>\n",
    "Hint: Notice a pattern above. After 1 second and third number is 1+0 and 1+1. 4th and 5th number are second number (i.e. 10) + 0 and second number (i.e. 10) + 1.<br>\n",
    "\n",
    "You also need to add front() function in queue class that can return the front element in the queue.\n",
    "\n"
   ]
  },
  {
   "cell_type": "code",
   "execution_count": 9,
   "id": "2bc95552",
   "metadata": {},
   "outputs": [
    {
     "name": "stdout",
     "output_type": "stream",
     "text": [
      "1\n",
      "10\n",
      "11\n",
      "100\n",
      "101\n",
      "110\n",
      "111\n",
      "1000\n",
      "1001\n",
      "1010\n",
      "deque(['10101', '10100', '10011', '10010', '10001', '10000', '1111', '1110', '1101', '1100', '1011'])\n"
     ]
    }
   ],
   "source": [
    "def print_binary(n):\n",
    "    mqueue = Queue()\n",
    "    mqueue.enqueue('1')\n",
    "    for i in range(n):\n",
    "        front = mqueue.front()\n",
    "        print(front)\n",
    "        \n",
    "        mqueue.enqueue(front+'0')\n",
    "        mqueue.enqueue(front+'1')\n",
    "        mqueue.dequeue()\n",
    "\n",
    "print_binary(10)\n",
    "        "
   ]
  },
  {
   "cell_type": "code",
   "execution_count": null,
   "id": "ae929ae7",
   "metadata": {},
   "outputs": [],
   "source": []
  }
 ],
 "metadata": {
  "kernelspec": {
   "display_name": "Python 3 (ipykernel)",
   "language": "python",
   "name": "python3"
  },
  "language_info": {
   "codemirror_mode": {
    "name": "ipython",
    "version": 3
   },
   "file_extension": ".py",
   "mimetype": "text/x-python",
   "name": "python",
   "nbconvert_exporter": "python",
   "pygments_lexer": "ipython3",
   "version": "3.9.7"
  }
 },
 "nbformat": 4,
 "nbformat_minor": 5
}
