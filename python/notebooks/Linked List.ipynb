{
 "cells": [
  {
   "cell_type": "code",
   "execution_count": 1,
   "id": "f2a0d147",
   "metadata": {},
   "outputs": [],
   "source": [
    "class Node(object):\n",
    "    def __init__(self, d, n = None):\n",
    "        self.data = d\n",
    "        self.next_node = n\n",
    "    def get_next(self):\n",
    "        return self.next_node\n",
    "    def set_next(self, n):\n",
    "        self.next_node = n\n",
    "    def get_data(self):\n",
    "        return self.data\n",
    "    def set_data(self, d):\n",
    "        self.data = d\n",
    "        "
   ]
  },
  {
   "cell_type": "code",
   "execution_count": 11,
   "id": "5ef0e1ae",
   "metadata": {},
   "outputs": [],
   "source": [
    "class LinkedList(object):\n",
    "    def __init__(self, r = None):\n",
    "        self.root = r\n",
    "        self.size = 0\n",
    "        \n",
    "    def get_size(self):\n",
    "        return self.size\n",
    "    \n",
    "    def add(self, d):\n",
    "        new_node = Node(d, self.root)\n",
    "        self.root = new_node\n",
    "        self.size+=1\n",
    "        \n",
    "    def remove(self, d):\n",
    "        curr_node = self.root\n",
    "        prev_node = None\n",
    "        while curr_node:\n",
    "            if(curr_node.get_data() == d):\n",
    "                if prev_node != None:\n",
    "                    prev_node.set_next(curr_node.get_next())\n",
    "                else:\n",
    "                    self.root = curr_node.next\n",
    "                self.size -=1\n",
    "                return True\n",
    "            else:\n",
    "                prev_node = curr_node\n",
    "                curr_node == curr_node.get_next()\n",
    "        return False\n",
    "                \n",
    "    def find(self, d):\n",
    "        curr_node = self.root\n",
    "        \n",
    "        while curr_node:\n",
    "            if curr_node.get_data() == d:\n",
    "                return d\n",
    "            else:\n",
    "                curr_node = curr_node.get_next()\n",
    "        return None\n",
    "    \n",
    "    #Added method to get the lenght of the linked list without necessarily maintaining an internal variable\n",
    "    def count_nodes(self):\n",
    "        count = 0\n",
    "        curr_node = self.root\n",
    "        while curr_node:\n",
    "            curr_node = curr_node.get_next()    \n",
    "            count+=1            \n",
    "        return count"
   ]
  },
  {
   "cell_type": "code",
   "execution_count": 12,
   "id": "13933a8a",
   "metadata": {},
   "outputs": [
    {
     "name": "stdout",
     "output_type": "stream",
     "text": [
      "4\n"
     ]
    }
   ],
   "source": [
    "myList = LinkedList()\n",
    "myList.add(5)\n",
    "myList.add(7)\n",
    "myList.add(2)\n",
    "myList.add(4)\n",
    "print(myList.count_nodes())"
   ]
  },
  {
   "cell_type": "code",
   "execution_count": null,
   "id": "9eb2c102",
   "metadata": {},
   "outputs": [],
   "source": []
  }
 ],
 "metadata": {
  "kernelspec": {
   "display_name": "Python 3 (ipykernel)",
   "language": "python",
   "name": "python3"
  },
  "language_info": {
   "codemirror_mode": {
    "name": "ipython",
    "version": 3
   },
   "file_extension": ".py",
   "mimetype": "text/x-python",
   "name": "python",
   "nbconvert_exporter": "python",
   "pygments_lexer": "ipython3",
   "version": "3.9.7"
  }
 },
 "nbformat": 4,
 "nbformat_minor": 5
}
