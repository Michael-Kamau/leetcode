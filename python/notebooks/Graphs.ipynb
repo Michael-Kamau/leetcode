{
 "cells": [
  {
   "cell_type": "code",
   "execution_count": 5,
   "id": "e539aea1",
   "metadata": {},
   "outputs": [],
   "source": [
    "class Graph:\n",
    "    def __init__(self, edges):\n",
    "        self.edges = edges\n",
    "        self.graph_dict = {}\n",
    "        \n",
    "        for start, end in edges:\n",
    "            if start not in self.graph_dict:\n",
    "                self.graph_dict[start]=[end]\n",
    "            else:\n",
    "                self.graph_dict[start].append(end)\n",
    "    def get_routes(self,start,end, path=[]):\n",
    "        '''\n",
    "        THREE CASES TO CONSIDER\n",
    "        1. When we are on the destination node\n",
    "        2. When we are on a node with no link to other nodes\n",
    "        3. When we are on a node with a link to atleast one other node\n",
    "        '''\n",
    "        path = path + [start]\n",
    "        \n",
    "        if start == end:\n",
    "            return [path]\n",
    "        if start not in self.graph_dict:\n",
    "            return []\n",
    "        \n",
    "        paths = []\n",
    "        \n",
    "        for node in self.graph_dict[start]:\n",
    "            if node not in path:\n",
    "                new_paths = self.get_routes(node, end, path)\n",
    "                for p in new_paths:\n",
    "                    paths.append(p)\n",
    "        return paths\n",
    "        \n",
    "        "
   ]
  },
  {
   "cell_type": "code",
   "execution_count": 7,
   "id": "1ba6721e",
   "metadata": {},
   "outputs": [
    {
     "name": "stdout",
     "output_type": "stream",
     "text": [
      "[['ke', 'ug', 'cg'], ['ke', 'tz', 'ug', 'cg']]\n",
      "{'ke': ['ug', 'tz'], 'tz': ['ug'], 'ug': ['cg']}\n"
     ]
    }
   ],
   "source": [
    "routes = [\n",
    "    ('ke','ug'),\n",
    "    ('ke','tz'),\n",
    "    ('tz', 'ug'),\n",
    "    ('ug','cg')\n",
    "]\n",
    "\n",
    "m_graph = Graph(routes)\n",
    "\n",
    "print(m_graph.get_routes('ke','cg'))\n",
    "print(m_graph.graph_dict)"
   ]
  },
  {
   "cell_type": "code",
   "execution_count": null,
   "id": "31b3ed32",
   "metadata": {},
   "outputs": [],
   "source": []
  }
 ],
 "metadata": {
  "kernelspec": {
   "display_name": "Python 3 (ipykernel)",
   "language": "python",
   "name": "python3"
  },
  "language_info": {
   "codemirror_mode": {
    "name": "ipython",
    "version": 3
   },
   "file_extension": ".py",
   "mimetype": "text/x-python",
   "name": "python",
   "nbconvert_exporter": "python",
   "pygments_lexer": "ipython3",
   "version": "3.9.7"
  }
 },
 "nbformat": 4,
 "nbformat_minor": 5
}
